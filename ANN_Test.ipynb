{
  "cells": [
    {
      "cell_type": "code",
      "execution_count": null,
      "metadata": {
        "colab": {
          "base_uri": "https://localhost:8080/"
        },
        "id": "DrypeEgV2uO6",
        "outputId": "b823ff48-1e7e-48a8-8d49-a1931a83e5ca"
      },
      "outputs": [
        {
          "output_type": "stream",
          "name": "stdout",
          "text": [
            "Requirement already satisfied: tensorflow-addons==0.16.1 in /usr/local/lib/python3.10/dist-packages (0.16.1)\n",
            "Requirement already satisfied: typeguard>=2.7 in /usr/local/lib/python3.10/dist-packages (from tensorflow-addons==0.16.1) (4.2.1)\n",
            "Requirement already satisfied: typing-extensions>=4.10.0 in /usr/local/lib/python3.10/dist-packages (from typeguard>=2.7->tensorflow-addons==0.16.1) (4.11.0)\n",
            "Requirement already satisfied: pydot in /usr/local/lib/python3.10/dist-packages (1.4.2)\n",
            "Requirement already satisfied: pyparsing>=2.1.4 in /usr/local/lib/python3.10/dist-packages (from pydot) (3.1.2)\n",
            "Requirement already satisfied: graphviz in /usr/local/lib/python3.10/dist-packages (0.20.3)\n"
          ]
        }
      ],
      "source": [
        "!pip install tensorflow-addons==0.16.1\n",
        "!pip install pydot\n",
        "!pip install graphviz\n"
      ]
    },
    {
      "cell_type": "code",
      "execution_count": null,
      "metadata": {
        "id": "4BhXGIOy1b2D"
      },
      "outputs": [],
      "source": [
        "# importing libraries\n",
        "import numpy as np\n",
        "import pandas as pd\n",
        "import matplotlib.pyplot as plt\n",
        "import tensorflow as tf\n",
        "import keras\n",
        "from tensorflow.keras.models import Sequential\n",
        "from tensorflow.keras.layers import Dense\n",
        "from sklearn.metrics import confusion_matrix\n",
        "from sklearn.model_selection import train_test_split\n",
        "from keras.utils import plot_model\n",
        "import seaborn as sns\n",
        "import os"
      ]
    },
    {
      "cell_type": "code",
      "execution_count": null,
      "metadata": {
        "id": "GVFfgupCg3vT",
        "colab": {
          "base_uri": "https://localhost:8080/",
          "height": 73
        },
        "outputId": "1ae338b2-d319-445a-99b4-0cc201f540b9"
      },
      "outputs": [
        {
          "output_type": "display_data",
          "data": {
            "text/plain": [
              "<IPython.core.display.HTML object>"
            ],
            "text/html": [
              "\n",
              "     <input type=\"file\" id=\"files-603d5c22-cc66-4ad2-9d02-c045aae1d077\" name=\"files[]\" multiple disabled\n",
              "        style=\"border:none\" />\n",
              "     <output id=\"result-603d5c22-cc66-4ad2-9d02-c045aae1d077\">\n",
              "      Upload widget is only available when the cell has been executed in the\n",
              "      current browser session. Please rerun this cell to enable.\n",
              "      </output>\n",
              "      <script>// Copyright 2017 Google LLC\n",
              "//\n",
              "// Licensed under the Apache License, Version 2.0 (the \"License\");\n",
              "// you may not use this file except in compliance with the License.\n",
              "// You may obtain a copy of the License at\n",
              "//\n",
              "//      http://www.apache.org/licenses/LICENSE-2.0\n",
              "//\n",
              "// Unless required by applicable law or agreed to in writing, software\n",
              "// distributed under the License is distributed on an \"AS IS\" BASIS,\n",
              "// WITHOUT WARRANTIES OR CONDITIONS OF ANY KIND, either express or implied.\n",
              "// See the License for the specific language governing permissions and\n",
              "// limitations under the License.\n",
              "\n",
              "/**\n",
              " * @fileoverview Helpers for google.colab Python module.\n",
              " */\n",
              "(function(scope) {\n",
              "function span(text, styleAttributes = {}) {\n",
              "  const element = document.createElement('span');\n",
              "  element.textContent = text;\n",
              "  for (const key of Object.keys(styleAttributes)) {\n",
              "    element.style[key] = styleAttributes[key];\n",
              "  }\n",
              "  return element;\n",
              "}\n",
              "\n",
              "// Max number of bytes which will be uploaded at a time.\n",
              "const MAX_PAYLOAD_SIZE = 100 * 1024;\n",
              "\n",
              "function _uploadFiles(inputId, outputId) {\n",
              "  const steps = uploadFilesStep(inputId, outputId);\n",
              "  const outputElement = document.getElementById(outputId);\n",
              "  // Cache steps on the outputElement to make it available for the next call\n",
              "  // to uploadFilesContinue from Python.\n",
              "  outputElement.steps = steps;\n",
              "\n",
              "  return _uploadFilesContinue(outputId);\n",
              "}\n",
              "\n",
              "// This is roughly an async generator (not supported in the browser yet),\n",
              "// where there are multiple asynchronous steps and the Python side is going\n",
              "// to poll for completion of each step.\n",
              "// This uses a Promise to block the python side on completion of each step,\n",
              "// then passes the result of the previous step as the input to the next step.\n",
              "function _uploadFilesContinue(outputId) {\n",
              "  const outputElement = document.getElementById(outputId);\n",
              "  const steps = outputElement.steps;\n",
              "\n",
              "  const next = steps.next(outputElement.lastPromiseValue);\n",
              "  return Promise.resolve(next.value.promise).then((value) => {\n",
              "    // Cache the last promise value to make it available to the next\n",
              "    // step of the generator.\n",
              "    outputElement.lastPromiseValue = value;\n",
              "    return next.value.response;\n",
              "  });\n",
              "}\n",
              "\n",
              "/**\n",
              " * Generator function which is called between each async step of the upload\n",
              " * process.\n",
              " * @param {string} inputId Element ID of the input file picker element.\n",
              " * @param {string} outputId Element ID of the output display.\n",
              " * @return {!Iterable<!Object>} Iterable of next steps.\n",
              " */\n",
              "function* uploadFilesStep(inputId, outputId) {\n",
              "  const inputElement = document.getElementById(inputId);\n",
              "  inputElement.disabled = false;\n",
              "\n",
              "  const outputElement = document.getElementById(outputId);\n",
              "  outputElement.innerHTML = '';\n",
              "\n",
              "  const pickedPromise = new Promise((resolve) => {\n",
              "    inputElement.addEventListener('change', (e) => {\n",
              "      resolve(e.target.files);\n",
              "    });\n",
              "  });\n",
              "\n",
              "  const cancel = document.createElement('button');\n",
              "  inputElement.parentElement.appendChild(cancel);\n",
              "  cancel.textContent = 'Cancel upload';\n",
              "  const cancelPromise = new Promise((resolve) => {\n",
              "    cancel.onclick = () => {\n",
              "      resolve(null);\n",
              "    };\n",
              "  });\n",
              "\n",
              "  // Wait for the user to pick the files.\n",
              "  const files = yield {\n",
              "    promise: Promise.race([pickedPromise, cancelPromise]),\n",
              "    response: {\n",
              "      action: 'starting',\n",
              "    }\n",
              "  };\n",
              "\n",
              "  cancel.remove();\n",
              "\n",
              "  // Disable the input element since further picks are not allowed.\n",
              "  inputElement.disabled = true;\n",
              "\n",
              "  if (!files) {\n",
              "    return {\n",
              "      response: {\n",
              "        action: 'complete',\n",
              "      }\n",
              "    };\n",
              "  }\n",
              "\n",
              "  for (const file of files) {\n",
              "    const li = document.createElement('li');\n",
              "    li.append(span(file.name, {fontWeight: 'bold'}));\n",
              "    li.append(span(\n",
              "        `(${file.type || 'n/a'}) - ${file.size} bytes, ` +\n",
              "        `last modified: ${\n",
              "            file.lastModifiedDate ? file.lastModifiedDate.toLocaleDateString() :\n",
              "                                    'n/a'} - `));\n",
              "    const percent = span('0% done');\n",
              "    li.appendChild(percent);\n",
              "\n",
              "    outputElement.appendChild(li);\n",
              "\n",
              "    const fileDataPromise = new Promise((resolve) => {\n",
              "      const reader = new FileReader();\n",
              "      reader.onload = (e) => {\n",
              "        resolve(e.target.result);\n",
              "      };\n",
              "      reader.readAsArrayBuffer(file);\n",
              "    });\n",
              "    // Wait for the data to be ready.\n",
              "    let fileData = yield {\n",
              "      promise: fileDataPromise,\n",
              "      response: {\n",
              "        action: 'continue',\n",
              "      }\n",
              "    };\n",
              "\n",
              "    // Use a chunked sending to avoid message size limits. See b/62115660.\n",
              "    let position = 0;\n",
              "    do {\n",
              "      const length = Math.min(fileData.byteLength - position, MAX_PAYLOAD_SIZE);\n",
              "      const chunk = new Uint8Array(fileData, position, length);\n",
              "      position += length;\n",
              "\n",
              "      const base64 = btoa(String.fromCharCode.apply(null, chunk));\n",
              "      yield {\n",
              "        response: {\n",
              "          action: 'append',\n",
              "          file: file.name,\n",
              "          data: base64,\n",
              "        },\n",
              "      };\n",
              "\n",
              "      let percentDone = fileData.byteLength === 0 ?\n",
              "          100 :\n",
              "          Math.round((position / fileData.byteLength) * 100);\n",
              "      percent.textContent = `${percentDone}% done`;\n",
              "\n",
              "    } while (position < fileData.byteLength);\n",
              "  }\n",
              "\n",
              "  // All done.\n",
              "  yield {\n",
              "    response: {\n",
              "      action: 'complete',\n",
              "    }\n",
              "  };\n",
              "}\n",
              "\n",
              "scope.google = scope.google || {};\n",
              "scope.google.colab = scope.google.colab || {};\n",
              "scope.google.colab._files = {\n",
              "  _uploadFiles,\n",
              "  _uploadFilesContinue,\n",
              "};\n",
              "})(self);\n",
              "</script> "
            ]
          },
          "metadata": {}
        },
        {
          "output_type": "stream",
          "name": "stdout",
          "text": [
            "Saving test_data.zip to test_data (1).zip\n"
          ]
        }
      ],
      "source": [
        "# # To import data file\n",
        "\n",
        "# from google.colab import files\n",
        "# import zipfile\n",
        "# import io\n",
        "\n",
        "# uploaded = files.upload()\n",
        "\n",
        "# uploaded_filename = \"test_data.zip\"\n",
        "# with zipfile.ZipFile(uploaded_filename, 'r') as zip_ref:\n",
        "#     zip_ref.extractall(\".\")\n"
      ]
    },
    {
      "cell_type": "code",
      "execution_count": null,
      "metadata": {
        "colab": {
          "base_uri": "https://localhost:8080/"
        },
        "id": "Hy4BTpQph343",
        "outputId": "c2389f8d-e107-4bad-d923-1e438bda19bc"
      },
      "outputs": [
        {
          "output_type": "stream",
          "name": "stdout",
          "text": [
            "['.config', 'test_data', 'model4.keras', 'model5.keras', 'model2.keras', 'test_data.zip', 'model3.keras', 'model1.keras', 'test_data (1).zip', 'sample_data']\n"
          ]
        }
      ],
      "source": [
        "folder_path = \".\"                     # Opens current directory.\n",
        "contents = os.listdir(folder_path)    # Gives list of folder in the directory\n",
        "print(contents)"
      ]
    },
    {
      "cell_type": "code",
      "execution_count": null,
      "metadata": {
        "id": "1IROgd2YiK7Z"
      },
      "outputs": [],
      "source": [
        "# Define a function to extract data\n",
        "def read_data(filename):\n",
        "\n",
        "    data = []\n",
        "    with open(filename, 'r') as f:\n",
        "        for line in f:\n",
        "\n",
        "            # Split the line by spaces and convert each value to float\n",
        "            line_data = [float(value) for value in line.strip().split()]\n",
        "            data.append(line_data)\n",
        "    return data"
      ]
    },
    {
      "cell_type": "code",
      "execution_count": null,
      "metadata": {
        "colab": {
          "base_uri": "https://localhost:8080/"
        },
        "id": "OCW9sEA7kMpl",
        "outputId": "c85a0b29-e378-49c0-c5da-fc712d8ab683"
      },
      "outputs": [
        {
          "output_type": "stream",
          "name": "stdout",
          "text": [
            "(200, 1681, 1)\n"
          ]
        }
      ],
      "source": [
        "# Displacement data set\n",
        "# Input data\n",
        "diplacement_list=[]\n",
        "for i in range(0,200):\n",
        "    file_path = os.path.join(folder_path, \"test_data\", f'displacement ({i})')               # Calling file displacement data\n",
        "    data=read_data(file_path)\n",
        "\n",
        "\n",
        "\n",
        "    diplacement_list.append(data)\n",
        "\n",
        "displacement_array = np.array(diplacement_list)\n",
        "#displacement_array=displacement.reshape(1000,1681)\n",
        "print(displacement_array.shape)"
      ]
    },
    {
      "cell_type": "code",
      "execution_count": null,
      "metadata": {
        "id": "pBOasD4nrNQF"
      },
      "outputs": [],
      "source": [
        "# print(displacement_array.shape)\n",
        "# print('displacement:',displacement_array[0,:,:])"
      ]
    },
    {
      "cell_type": "code",
      "execution_count": null,
      "metadata": {
        "id": "zA6K259jrV1c",
        "colab": {
          "base_uri": "https://localhost:8080/"
        },
        "outputId": "59aa5186-18a6-4988-da4a-152fd48b2c9c"
      },
      "outputs": [
        {
          "output_type": "stream",
          "name": "stdout",
          "text": [
            "(200, 400, 1)\n"
          ]
        }
      ],
      "source": [
        "# Property data set\n",
        "# Labels\n",
        "\n",
        "prop_list=[]\n",
        "\n",
        "for i in range(0,200):\n",
        "    file_path = os.path.join(folder_path, \"test_data\", f'prop.dat ({i})')               # Calling file prop.dat data\n",
        "    data=read_data(file_path)\n",
        "\n",
        "\n",
        "\n",
        "    prop_list.append(data[1:401])\n",
        "\n",
        "prop_array=np.array(prop_list)\n",
        "#prop_array=prop.reshape(1000,400)\n",
        "\n",
        "print(prop_array.shape)"
      ]
    },
    {
      "cell_type": "code",
      "source": [
        "# Min-Max Scaling\n",
        "def min_max_scaling(data):\n",
        "   scaled_data=np.zeros((len(data[:,0,0]),len(data[0,:,0]),1))\n",
        "   for i in range(0,len(data[:,0,0])):\n",
        "       min_val = np.min(data[i,:,:])\n",
        "       max_val = np.max(data[i,:,:])\n",
        "       for j in range(0,len(data[0,:,0])):\n",
        "\n",
        "           scaled_data[i,j,:] = (data[i,j,:] - min_val) / (max_val - min_val)\n",
        "   return scaled_data"
      ],
      "metadata": {
        "id": "Y1oOFvYXoU5u"
      },
      "execution_count": null,
      "outputs": []
    },
    {
      "cell_type": "code",
      "source": [
        "# Normalize input data\n",
        "#x_train_scaled = min_max_scaling(displacement_array)\n",
        "x_test_scaled = min_max_scaling(displacement_array)\n",
        "\n",
        "# Normalize output data\n",
        "#y_train_scaled = min_max_scaling(prop_array)\n",
        "y_test_scaled = min_max_scaling(prop_array)\n",
        "y_test_shape= y_test_scaled.reshape(200,400)"
      ],
      "metadata": {
        "id": "YJTIPA_vodDN"
      },
      "execution_count": null,
      "outputs": []
    },
    {
      "cell_type": "code",
      "source": [
        "def model_test(model_name):\n",
        "    new_model = tf.keras.models.load_model(model_name)\n",
        "    new_model.summary()\n",
        "\n",
        "\n",
        "    #model prediction on test set\n",
        "    y_pred_test = new_model.predict(x_test_scaled)\n",
        "\n",
        "\n",
        "    y_true = y_test_shape.flatten()\n",
        "    y_pred = y_pred_test.flatten()\n",
        "\n",
        "\n",
        "    threshold = 0.5\n",
        "\n",
        "    # Convert continuous predictions to binary predictions based on the threshold\n",
        "    y_pred_binary = (y_pred > threshold).astype(int)\n",
        "\n",
        "\n",
        "    # Compute confusion matrix\n",
        "    conf_matrix = confusion_matrix(y_true, y_pred_binary)\n",
        "\n",
        "    print(\"Confusion Matrix:\")\n",
        "    print(conf_matrix)\n",
        "\n",
        "\n",
        "    TN, FP, FN, TP = conf_matrix.ravel()\n",
        "\n",
        "    # Calculate accuracy\n",
        "    accuracy = (TP + TN) / (TP + TN + FP + FN)\n",
        "\n",
        "    print(\"Accuracy:\", accuracy)\n",
        "\n",
        "    classes=[0,1]\n",
        "\n",
        "    con_mat = tf.math.confusion_matrix(labels=y_true, predictions=y_pred_binary).numpy()\n",
        "    con_mat_norm = np.around(con_mat.astype('float') / con_mat.sum(axis=1)[:, np.newaxis], decimals=2)\n",
        "\n",
        "    con_mat_df = pd.DataFrame(con_mat_norm,index = classes,\n",
        "                     columns = classes)\n",
        "\n",
        "    figure = plt.figure(figsize=(8, 8))\n",
        "    sns.heatmap(con_mat_df, annot=True,cmap=plt.cm.Blues)\n",
        "    plt.tight_layout()\n",
        "    plt.ylabel('True label')\n",
        "    plt.xlabel('Predicted label')\n",
        "    plt.show()"
      ],
      "metadata": {
        "id": "UEhEsP78z0yt"
      },
      "execution_count": null,
      "outputs": []
    },
    {
      "cell_type": "code",
      "source": [
        "for i in range(1,6):\n",
        "    model_test(f'model{i}.keras')"
      ],
      "metadata": {
        "colab": {
          "base_uri": "https://localhost:8080/",
          "height": 1000
        },
        "id": "UaAoQgEmq4Jf",
        "outputId": "515e2c72-08fd-416d-eff6-e645a62220d6"
      },
      "execution_count": null,
      "outputs": [
        {
          "output_type": "stream",
          "name": "stdout",
          "text": [
            "Model: \"sequential_1\"\n",
            "_________________________________________________________________\n",
            " Layer (type)                Output Shape              Param #   \n",
            "=================================================================\n",
            " hidden_1 (Dense)            (None, 8)                 13456     \n",
            "                                                                 \n",
            " dense_2 (Dense)             (None, 256)               2304      \n",
            "                                                                 \n",
            " dense_3 (Dense)             (None, 128)               32896     \n",
            "                                                                 \n",
            " output (Dense)              (None, 400)               51600     \n",
            "                                                                 \n",
            "=================================================================\n",
            "Total params: 100256 (391.62 KB)\n",
            "Trainable params: 100256 (391.62 KB)\n",
            "Non-trainable params: 0 (0.00 Byte)\n",
            "_________________________________________________________________\n",
            "7/7 [==============================] - 0s 3ms/step\n",
            "Confusion Matrix:\n",
            "[[  665  8162]\n",
            " [  287 70886]]\n",
            "Accuracy: 0.8943875\n"
          ]
        },
        {
          "output_type": "display_data",
          "data": {
            "text/plain": [
              "<Figure size 800x800 with 2 Axes>"
            ],
            "image/png": "[encoded data removed]"
          },
          "metadata": {}
        },
        {
          "output_type": "stream",
          "name": "stdout",
          "text": [
            "Model: \"sequential_2\"\n",
            "_________________________________________________________________\n",
            " Layer (type)                Output Shape              Param #   \n",
            "=================================================================\n",
            " hidden_1 (Dense)            (None, 8)                 13456     \n",
            "                                                                 \n",
            " dense_4 (Dense)             (None, 256)               2304      \n",
            "                                                                 \n",
            " dense_5 (Dense)             (None, 128)               32896     \n",
            "                                                                 \n",
            " output (Dense)              (None, 400)               51600     \n",
            "                                                                 \n",
            "=================================================================\n",
            "Total params: 100256 (391.62 KB)\n",
            "Trainable params: 100256 (391.62 KB)\n",
            "Non-trainable params: 0 (0.00 Byte)\n",
            "_________________________________________________________________\n",
            "7/7 [==============================] - 0s 3ms/step\n",
            "Confusion Matrix:\n",
            "[[  791  8036]\n",
            " [  430 70743]]\n",
            "Accuracy: 0.894175\n"
          ]
        },
        {
          "output_type": "display_data",
          "data": {
            "text/plain": [
              "<Figure size 800x800 with 2 Axes>"
            ],
            "image/png": "[encoded data removed]"
          },
          "metadata": {}
        },
        {
          "output_type": "stream",
          "name": "stdout",
          "text": [
            "Model: \"sequential_1\"\n",
            "_________________________________________________________________\n",
            " Layer (type)                Output Shape              Param #   \n",
            "=================================================================\n",
            " hidden_1 (Dense)            (None, 64)                107648    \n",
            "                                                                 \n",
            " hidden_2 (Dense)            (None, 128)               8320      \n",
            "                                                                 \n",
            " dense_2 (Dense)             (None, 256)               33024     \n",
            "                                                                 \n",
            " dense_3 (Dense)             (None, 128)               32896     \n",
            "                                                                 \n",
            " output (Dense)              (None, 400)               51600     \n",
            "                                                                 \n",
            "=================================================================\n",
            "Total params: 233488 (912.06 KB)\n",
            "Trainable params: 233488 (912.06 KB)\n",
            "Non-trainable params: 0 (0.00 Byte)\n",
            "_________________________________________________________________\n",
            "7/7 [==============================] - 0s 3ms/step\n",
            "Confusion Matrix:\n",
            "[[ 1028  7799]\n",
            " [  608 70565]]\n",
            "Accuracy: 0.8949125\n"
          ]
        },
        {
          "output_type": "display_data",
          "data": {
            "text/plain": [
              "<Figure size 800x800 with 2 Axes>"
            ],
            "image/png": "[encoded data removed]"
          },
          "metadata": {}
        },
        {
          "output_type": "stream",
          "name": "stdout",
          "text": [
            "Model: \"sequential_5\"\n",
            "_________________________________________________________________\n",
            " Layer (type)                Output Shape              Param #   \n",
            "=================================================================\n",
            " hidden_1 (Dense)            (None, 8)                 13456     \n",
            "                                                                 \n",
            " hidden_2 (Dense)            (None, 128)               1152      \n",
            "                                                                 \n",
            " dense_12 (Dense)            (None, 256)               33024     \n",
            "                                                                 \n",
            " dense_13 (Dense)            (None, 512)               131584    \n",
            "                                                                 \n",
            " dense_14 (Dense)            (None, 512)               262656    \n",
            "                                                                 \n",
            " dense_15 (Dense)            (None, 256)               131328    \n",
            "                                                                 \n",
            " dense_16 (Dense)            (None, 128)               32896     \n",
            "                                                                 \n",
            " output (Dense)              (None, 400)               51600     \n",
            "                                                                 \n",
            "=================================================================\n",
            "Total params: 657696 (2.51 MB)\n",
            "Trainable params: 657696 (2.51 MB)\n",
            "Non-trainable params: 0 (0.00 Byte)\n",
            "_________________________________________________________________\n",
            "7/7 [==============================] - 0s 4ms/step\n",
            "Confusion Matrix:\n",
            "[[ 1031  7796]\n",
            " [  606 70567]]\n",
            "Accuracy: 0.894975\n"
          ]
        },
        {
          "output_type": "display_data",
          "data": {
            "text/plain": [
              "<Figure size 800x800 with 2 Axes>"
            ],
            "image/png": "[encoded data removed]"
          },
          "metadata": {}
        },
        {
          "output_type": "stream",
          "name": "stdout",
          "text": [
            "Model: \"sequential_6\"\n",
            "_________________________________________________________________\n",
            " Layer (type)                Output Shape              Param #   \n",
            "=================================================================\n",
            " hidden_1 (Dense)            (None, 8)                 13456     \n",
            "                                                                 \n",
            " hidden_2 (Dense)            (None, 128)               1152      \n",
            "                                                                 \n",
            " dense_17 (Dense)            (None, 256)               33024     \n",
            "                                                                 \n",
            " dense_18 (Dense)            (None, 512)               131584    \n",
            "                                                                 \n",
            " dense_19 (Dense)            (None, 1024)              525312    \n",
            "                                                                 \n",
            " dense_20 (Dense)            (None, 512)               524800    \n",
            "                                                                 \n",
            " dense_21 (Dense)            (None, 256)               131328    \n",
            "                                                                 \n",
            " dense_22 (Dense)            (None, 128)               32896     \n",
            "                                                                 \n",
            " output (Dense)              (None, 400)               51600     \n",
            "                                                                 \n",
            "=================================================================\n",
            "Total params: 1445152 (5.51 MB)\n",
            "Trainable params: 1445152 (5.51 MB)\n",
            "Non-trainable params: 0 (0.00 Byte)\n",
            "_________________________________________________________________\n",
            "7/7 [==============================] - 0s 7ms/step\n",
            "Confusion Matrix:\n",
            "[[ 1386  7441]\n",
            " [  941 70232]]\n",
            "Accuracy: 0.895225\n"
          ]
        },
        {
          "output_type": "display_data",
          "data": {
            "text/plain": [
              "<Figure size 800x800 with 2 Axes>"
            ],
            "image/png": "[encoded data removed]"
          },
          "metadata": {}
        }
      ]
    },
    {
      "cell_type": "code",
      "source": [
        "model_test('model_cnn_v1.keras')"
      ],
      "metadata": {
        "colab": {
          "base_uri": "https://localhost:8080/",
          "height": 1000
        },
        "id": "4huEwO_huUu8",
        "outputId": "c3e47007-de40-45c1-f0e2-3bc77f914747"
      },
      "execution_count": null,
      "outputs": [
        {
          "output_type": "stream",
          "name": "stdout",
          "text": [
            "Model: \"sequential_4\"\n",
            "_________________________________________________________________\n",
            " Layer (type)                Output Shape              Param #   \n",
            "=================================================================\n",
            " conv1d_5 (Conv1D)           (None, 1679, 8)           32        \n",
            "                                                                 \n",
            " conv1d_6 (Conv1D)           (None, 1677, 32)          800       \n",
            "                                                                 \n",
            " max_pooling1d_2 (MaxPoolin  (None, 838, 32)           0         \n",
            " g1D)                                                            \n",
            "                                                                 \n",
            " flatten_2 (Flatten)         (None, 26816)             0         \n",
            "                                                                 \n",
            " dense_4 (Dense)             (None, 128)               3432576   \n",
            "                                                                 \n",
            " dense_5 (Dense)             (None, 64)                8256      \n",
            "                                                                 \n",
            " output (Dense)              (None, 400)               26000     \n",
            "                                                                 \n",
            "=================================================================\n",
            "Total params: 3467664 (13.23 MB)\n",
            "Trainable params: 3467664 (13.23 MB)\n",
            "Non-trainable params: 0 (0.00 Byte)\n",
            "_________________________________________________________________\n",
            "7/7 [==============================] - 0s 28ms/step\n",
            "Confusion Matrix:\n",
            "[[ 1311  7516]\n",
            " [  674 70499]]\n",
            "Accuracy: 0.897625\n"
          ]
        },
        {
          "output_type": "display_data",
          "data": {
            "text/plain": [
              "<Figure size 800x800 with 2 Axes>"
            ],
            "image/png": "[encoded data removed]"
          },
          "metadata": {}
        }
      ]
    },
    {
      "cell_type": "code",
      "source": [
        "# y_binary=(y_pred_test[1,:] > threshold).astype(int)\n",
        "# zero_positions_pred = np.where(y_binary== 0)[0]\n",
        "# zero_positions_pred.shape\n",
        "# zero_positions_test= np.where(y_test_shape[1,:]== 0)[0]\n",
        "# zero_positions_test"
      ],
      "metadata": {
        "id": "M7uSIL5wHg39"
      },
      "execution_count": null,
      "outputs": []
    }
  ],
  "metadata": {
    "colab": {
      "provenance": []
    },
    "kernelspec": {
      "display_name": "Python 3",
      "name": "python3"
    },
    "language_info": {
      "name": "python"
    }
  },
  "nbformat": 4,
  "nbformat_minor": 0
}